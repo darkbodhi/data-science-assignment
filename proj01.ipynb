{
 "cells": [
  {
   "cell_type": "code",
   "execution_count": null,
   "metadata": {},
   "outputs": [],
   "source": [
    "def merge_csv_files():\n",
    "    frame1 = pd.read_csv('commit.csv')\n",
    "    frame2 = pd.read_csv('issues.csv')\n",
    "    resulting_frame = frame1.merge(frame2, left_on = 'Key', right_on = 'Key')"
   ]
  },
  {
   "cell_type": "code",
   "execution_count": null,
   "metadata": {},
   "outputs": [],
   "source": [
    "def sort_by_column():\n",
    "    resulting_frame_sorted = resulting_frame.sort_values(by='created', axis=1, ascending)"
   ]
  },
  {
   "cell_type": "code",
   "execution_count": null,
   "metadata": {},
   "outputs": [],
   "source": [
    "def group_by_author():\n",
    "    a = 0\n",
    "    resulting_frame_grouped = resulting_frame.groupby(by=None, axis=0, level=None, as_index=True, sort=True, group_keys=True, squeeze=False,\n",
    "                            observed=False)\n",
    "\n",
    "    while a < 10:\n",
    "        for line in resulting_frame_grouped:\n",
    "            print(line)\n",
    "            a +=1"
   ]
  },
  {
   "cell_type": "code",
   "execution_count": null,
   "metadata": {},
   "outputs": [],
   "source": [
    "def show_commits_bug():\n",
    "    resulting_frame_bug[resulting_frame.issue_type = Bug]\n",
    "    print(resulting_frame_bug)"
   ]
  },
  {
   "cell_type": "code",
   "execution_count": null,
   "metadata": {},
   "outputs": [],
   "source": [
    "def show_commits_date_severity():\n",
    "    a > 2016-04-01T00:00:00.000+0000 AND a < 2016-10-01T00:00:00.000+0000\n",
    "    resulting_frame_date_severity[(resulting_frame.severity = 10) | (resulting_frame.created = a)]\n",
    "    print(resulting_frame_date_severity)"
   ]
  },
  {
   "cell_type": "code",
   "execution_count": null,
   "metadata": {},
   "outputs": [],
   "source": [
    "def show_longest_commits():\n",
    "    c = []\n",
    "    r = 0\n",
    "    v = b - a\n",
    "    a = resulting_frame[resulting_frame.created]\n",
    "    b = resulting_frame[resulting_frame.resolved]\n",
    "    for line in resulting_frame:\n",
    "        append.c(v)\n",
    "    c.sort(reverse = True)\n",
    "    while r < 10:\n",
    "        for line in c:\n",
    "            print(line)\n",
    "            r += 1"
   ]
  }
 ],
 "metadata": {
  "kernelspec": {
   "display_name": "Python 3",
   "language": "python",
   "name": "python3"
  },
  "language_info": {
   "codemirror_mode": {
    "name": "ipython",
    "version": 3
   },
   "file_extension": ".py",
   "mimetype": "text/x-python",
   "name": "python",
   "nbconvert_exporter": "python",
   "pygments_lexer": "ipython3",
   "version": "3.7.3"
  }
 },
 "nbformat": 4,
 "nbformat_minor": 2
}
